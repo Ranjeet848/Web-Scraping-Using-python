{
 "cells": [
  {
   "cell_type": "markdown",
   "metadata": {},
   "source": [
    "# Assignment 4 BOOK store data"
   ]
  },
  {
   "cell_type": "code",
   "execution_count": 1,
   "metadata": {},
   "outputs": [],
   "source": [
    "from bs4 import BeautifulSoup\n",
    "import requests\n",
    "import re"
   ]
  },
  {
   "cell_type": "code",
   "execution_count": 16,
   "metadata": {},
   "outputs": [],
   "source": [
    "url = 'https://www.bookpage.com/any-five-books'"
   ]
  },
  {
   "cell_type": "code",
   "execution_count": 17,
   "metadata": {},
   "outputs": [],
   "source": [
    "response = requests.get(url)\n",
    "soup = BeautifulSoup(response.text, 'lxml')"
   ]
  },
  {
   "cell_type": "code",
   "execution_count": 18,
   "metadata": {},
   "outputs": [],
   "source": [
    "bookname = soup.select('td.titleColumn')\n",
    "authorname = [a.attrs.get('href') for a in soup.select('td.titleColumn a')]\n",
    "genre = [a.attrs.get('title') for a in soup.select('td.titleColumn a')]\n",
    "bookreview = [b.attrs.get('data-value') for b in soup.select('td.posterColumn span[name=ir]')]\n",
    "votes = [b.attrs.get('data-value') for b in soup.select('td.ratingColumn strong')]"
   ]
  },
  {
   "cell_type": "code",
   "execution_count": 19,
   "metadata": {},
   "outputs": [],
   "source": [
    "bookpage =[]"
   ]
  },
  {
   "cell_type": "code",
   "execution_count": 20,
   "metadata": {},
   "outputs": [],
   "source": [
    "# Store each item into dictionary (data), then put those into a list (bookpage)\n",
    "for index in range(0, len(bookname)):\n",
    "    # Seperate movie into: 'place', 'title', 'year'\n",
    "    bookname_string = bookname[index].get_text()\n",
    "    bookname = (' '.join(bookname_string.split()).replace('.', ''))\n",
    "    book_name = bookname[len(str(index))+1:-7]\n",
    "    authorname = re.search('\\((.*?)\\)', bookname_string).group(1)\n",
    "    genre = bookname[:len(str(index))-(len(bookname))]\n",
    "    data = {\"book_name\": book_name,\n",
    "            \"authorname\": authorname,\n",
    "            \"genre\": genre,\n",
    "            \"bookreview\": review[index],\n",
    "            \"review\": review[index],\n",
    "            \"link\": links[index]}\n",
    "    bookpage.append(data)"
   ]
  },
  {
   "cell_type": "code",
   "execution_count": 21,
   "metadata": {},
   "outputs": [],
   "source": [
    "for item in bookpage:\n",
    "    print(item['genre'], '-', item['book_name'], '('+item['authorname']+') -', 'review:', item['bookreview'])"
   ]
  },
  {
   "cell_type": "code",
   "execution_count": null,
   "metadata": {},
   "outputs": [],
   "source": []
  }
 ],
 "metadata": {
  "kernelspec": {
   "display_name": "Python 3",
   "language": "python",
   "name": "python3"
  },
  "language_info": {
   "codemirror_mode": {
    "name": "ipython",
    "version": 3
   },
   "file_extension": ".py",
   "mimetype": "text/x-python",
   "name": "python",
   "nbconvert_exporter": "python",
   "pygments_lexer": "ipython3",
   "version": "3.7.3"
  }
 },
 "nbformat": 4,
 "nbformat_minor": 2
}
